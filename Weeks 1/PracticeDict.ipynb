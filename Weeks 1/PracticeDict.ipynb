{
 "cells": [
  {
   "cell_type": "markdown",
   "metadata": {},
   "source": [
    "Dictionary Exercise from greeksforgeeks\n",
    "https://www.geeksforgeeks.org/python-sort-python-dictionaries-by-key-or-value/"
   ]
  },
  {
   "cell_type": "code",
   "execution_count": 11,
   "metadata": {},
   "outputs": [
    {
     "name": "stdout",
     "output_type": "stream",
     "text": [
      "2 12 18 24 56 323 "
     ]
    }
   ],
   "source": [
    "#Initialize value\n",
    "key_value = {}\n",
    "key_value[2] = 56\n",
    "key_value[1] = 2\n",
    "key_value[5] = 12\n",
    "key_value[4] = 24\n",
    "key_value[6] = 18\n",
    "key_value[3] = 323\n",
    "key_value\n",
    "# for i in sorted(key_value.keys()):\n",
    "#     print(i, end=\" \")\n",
    "for i in sorted(key_value.values()):\n",
    "    print(i, end=\" \")"
   ]
  },
  {
   "cell_type": "code",
   "execution_count": 13,
   "metadata": {},
   "outputs": [
    {
     "name": "stdout",
     "output_type": "stream",
     "text": [
      "rajnish\n",
      "ravi\n",
      "sanjeev\n",
      "suraj\n",
      "yash\n"
     ]
    }
   ],
   "source": [
    "key_value = {}\n",
    "key_value['ravi'] = '10'       \n",
    "key_value['rajnish'] = '9'\n",
    "key_value['sanjeev'] = '15'\n",
    "key_value['yash'] = '2'\n",
    "key_value['suraj'] = '32'\n",
    "for i in sorted(key_value.keys()):\n",
    "    print(i)\n",
    "# sorted by string"
   ]
  },
  {
   "cell_type": "code",
   "execution_count": null,
   "metadata": {},
   "outputs": [],
   "source": [
    "# "
   ]
  }
 ],
 "metadata": {
  "kernelspec": {
   "display_name": "Python 3.9.13 64-bit",
   "language": "python",
   "name": "python3"
  },
  "language_info": {
   "codemirror_mode": {
    "name": "ipython",
    "version": 3
   },
   "file_extension": ".py",
   "mimetype": "text/x-python",
   "name": "python",
   "nbconvert_exporter": "python",
   "pygments_lexer": "ipython3",
   "version": "3.9.13"
  },
  "orig_nbformat": 4,
  "vscode": {
   "interpreter": {
    "hash": "b89ddca8a17ee8f1e863d2e831c1e088e036ab1b2d3155af7490dff4abc54834"
   }
  }
 },
 "nbformat": 4,
 "nbformat_minor": 2
}
